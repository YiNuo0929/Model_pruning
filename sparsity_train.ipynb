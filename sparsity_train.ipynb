{
  "cells": [
    {
      "cell_type": "markdown",
      "metadata": {
        "id": "U3at1mhslz9v"
      },
      "source": [
        "##掛載雲端硬碟\n"
      ]
    },
    {
      "cell_type": "code",
      "execution_count": 1,
      "metadata": {
        "id": "ijtFdN9tl14V",
        "colab": {
          "base_uri": "https://localhost:8080/"
        },
        "outputId": "4d95ad9d-ae14-4f73-b94d-1680aa5dea44"
      },
      "outputs": [
        {
          "output_type": "stream",
          "name": "stdout",
          "text": [
            "Mounted at /content/drive\n"
          ]
        }
      ],
      "source": [
        "from google.colab import drive\n",
        "drive.mount('/content/drive')"
      ]
    },
    {
      "cell_type": "markdown",
      "metadata": {
        "id": "q5bhyRZrl4X2"
      },
      "source": [
        "##更改檔案所在路徑"
      ]
    },
    {
      "cell_type": "code",
      "execution_count": 2,
      "metadata": {
        "id": "f2RXiD5Bl6a2",
        "colab": {
          "base_uri": "https://localhost:8080/"
        },
        "outputId": "8149913e-7953-4b97-ba83-a802671ef049"
      },
      "outputs": [
        {
          "output_type": "stream",
          "name": "stdout",
          "text": [
            "/content/drive/MyDrive/EAI_Lab4_2024\n"
          ]
        }
      ],
      "source": [
        "# Change to your own folder !!!\n",
        "%cd /content/drive/MyDrive/EAI_Lab4_2024"
      ]
    },
    {
      "cell_type": "markdown",
      "metadata": {
        "id": "gSal5HL0lTHA"
      },
      "source": [
        "## Import library"
      ]
    },
    {
      "cell_type": "code",
      "execution_count": 3,
      "metadata": {
        "id": "6v2iM_kglWj-"
      },
      "outputs": [],
      "source": [
        "from __future__ import print_function\n",
        "import os\n",
        "import argparse\n",
        "\n",
        "import torch\n",
        "import torch.nn as nn\n",
        "import torch.nn.functional as F\n",
        "import torch.optim as optim\n",
        "from torchvision import datasets, transforms\n",
        "from torch.autograd import Variable\n",
        "\n",
        "from models import vgg"
      ]
    },
    {
      "cell_type": "markdown",
      "metadata": {
        "id": "yFgiQGL6mq6W"
      },
      "source": [
        "## 設定超參數(填空)"
      ]
    },
    {
      "cell_type": "code",
      "execution_count": 4,
      "metadata": {
        "id": "a8FQ-IsUmqtP"
      },
      "outputs": [],
      "source": [
        "SPARSITY_REGULARIZATION = True\n",
        "#### 設定λ(balance factor) ####\n",
        "################################################\n",
        "#          請填空          #\n",
        "################################################\n",
        "LAMBDA =0.001\n",
        "\n",
        "SEED = 1\n",
        "TRAIN_BATCH_SIZE = 100\n",
        "TEST_BATCH_SIZE = 1000\n",
        "EPOCHS = 60\n",
        "LEARNING_RATE = 0.1\n",
        "MOMENTUM = 0.9\n",
        "WEIGHT_DECAY = 1e-4\n",
        "LOG_INTERVAL = 100\n",
        "CUDA = True\n",
        "\n",
        "RESUME = False\n",
        "START_EPOCH = 0\n",
        "\n",
        "WEIGHT_PATH = '/content/drive/MyDrive/Colab Notebooks/model_best.pth'\n"
      ]
    },
    {
      "cell_type": "code",
      "execution_count": 5,
      "metadata": {
        "id": "_Sa1Tmnym3Pn"
      },
      "outputs": [],
      "source": [
        "if(torch.cuda.is_available()):\n",
        "    CUDA = True\n",
        "    kwargs = {'num_workers': 1, 'pin_memory': True}\n",
        "    torch.cuda.manual_seed(SEED)\n",
        "else:\n",
        "    CUDA = False\n",
        "    kwargs = {}\n"
      ]
    },
    {
      "cell_type": "markdown",
      "metadata": {
        "id": "fylf4FTlm7QX"
      },
      "source": [
        "##下載資料集\n"
      ]
    },
    {
      "cell_type": "markdown",
      "metadata": {
        "id": "erS9S_76nUsG"
      },
      "source": [
        "這裡將訓練集做Augmentation(Pad, RandCrop, Random)，測試集不用做Augmentation"
      ]
    },
    {
      "cell_type": "code",
      "execution_count": 6,
      "metadata": {
        "id": "vBW21uIHm_C-",
        "colab": {
          "base_uri": "https://localhost:8080/"
        },
        "outputId": "36f05fa5-b34c-4000-f987-99254efcd5af"
      },
      "outputs": [
        {
          "output_type": "stream",
          "name": "stdout",
          "text": [
            "Files already downloaded and verified\n"
          ]
        }
      ],
      "source": [
        "#### 資料集 ####\n",
        "train_loader = torch.utils.data.DataLoader(\n",
        "    datasets.CIFAR10('./data', train=True, download=True,\n",
        "                   transform=transforms.Compose([\n",
        "                       transforms.Pad(4),\n",
        "                       transforms.RandomCrop(32),\n",
        "                       transforms.RandomHorizontalFlip(),\n",
        "                       transforms.ToTensor(),\n",
        "                       transforms.Normalize((0.5, 0.5, 0.5), (0.5, 0.5, 0.5))\n",
        "                   ])),\n",
        "    batch_size=TRAIN_BATCH_SIZE, shuffle=True, **kwargs)\n",
        "test_loader = torch.utils.data.DataLoader(\n",
        "    datasets.CIFAR10('./data', train=False, transform=transforms.Compose([\n",
        "                       transforms.ToTensor(),\n",
        "                       transforms.Normalize((0.5, 0.5, 0.5), (0.5, 0.5, 0.5))\n",
        "                   ])),\n",
        "    batch_size=TEST_BATCH_SIZE, shuffle=True, **kwargs)"
      ]
    },
    {
      "cell_type": "markdown",
      "metadata": {
        "id": "Is49FKBbuRj2"
      },
      "source": [
        "## 定義模型與載入訓練好的權重"
      ]
    },
    {
      "cell_type": "code",
      "execution_count": 7,
      "metadata": {
        "id": "SUbUcHN4uQ89"
      },
      "outputs": [],
      "source": [
        "model = vgg()\n",
        "if CUDA:\n",
        "    model.cuda()"
      ]
    },
    {
      "cell_type": "markdown",
      "metadata": {
        "id": "ZC8ECoKHu7iF"
      },
      "source": [
        "##設定Optimizer，這裡使用Stocastic Gradient Descent"
      ]
    },
    {
      "cell_type": "code",
      "execution_count": 8,
      "metadata": {
        "id": "EQ-soeyWvGyM"
      },
      "outputs": [],
      "source": [
        "optimizer = optim.SGD(model.parameters(), lr=LEARNING_RATE, momentum=MOMENTUM, weight_decay=WEIGHT_DECAY)"
      ]
    },
    {
      "cell_type": "markdown",
      "metadata": {
        "id": "txRrgb22vLD9"
      },
      "source": [
        "##使用論文中稀疏化的方式更新參數(填空)"
      ]
    },
    {
      "cell_type": "code",
      "execution_count": 9,
      "metadata": {
        "id": "O7ekcGWXvcXu"
      },
      "outputs": [],
      "source": [
        "def updateBN():\n",
        "  for m in model.modules():\n",
        "      if isinstance(m, nn.BatchNorm2d):\n",
        "          #### 完成Sparsity Regularization ####\n",
        "          ################################################\n",
        "          m.weight.grad.data.add_(LAMBDA * torch.sign(m.weight.data))\n",
        "          ################################################\n",
        "\n",
        "\n",
        "\n",
        "\n"
      ]
    },
    {
      "cell_type": "markdown",
      "metadata": {
        "id": "PAD78g28ns_C"
      },
      "source": [
        "## 載入預先定義好的模型與參數"
      ]
    },
    {
      "cell_type": "code",
      "execution_count": 10,
      "metadata": {
        "id": "HKUUpjTan4Zq"
      },
      "outputs": [],
      "source": [
        "if(RESUME):\n",
        "  checkpoint = torch.load(WEIGHT_PATH)\n",
        "  model.load_state_dict(checkpoint['state_dict'])\n",
        "  optimizer.load_state_dict(checkpoint['optimizer'])\n",
        "  START_EPOCH = checkpoint['epoch']\n",
        "  best_prec1 = checkpoint['best_prec1']\n",
        "  print(f'RESUME MODEL @EPOCH={START_EPOCH}, BEST_PREC1={best_prec1}')"
      ]
    },
    {
      "cell_type": "markdown",
      "metadata": {
        "id": "gR2UTh0iwbEF"
      },
      "source": [
        "## 定義訓練跟測試函數"
      ]
    },
    {
      "cell_type": "code",
      "execution_count": 11,
      "metadata": {
        "id": "hQcKuMDee46V",
        "colab": {
          "base_uri": "https://localhost:8080/"
        },
        "outputId": "9fa65cee-b1df-4952-8974-9c4fa7eccaa4"
      },
      "outputs": [
        {
          "output_type": "stream",
          "name": "stdout",
          "text": [
            "Train Epoch: 0 [0/50000 (0.0%)]\tLoss: 2.304169\n",
            "Train Epoch: 0 [10000/50000 (20.0%)]\tLoss: 1.823476\n",
            "Train Epoch: 0 [20000/50000 (40.0%)]\tLoss: 1.504560\n",
            "Train Epoch: 0 [30000/50000 (60.0%)]\tLoss: 1.447149\n",
            "Train Epoch: 0 [40000/50000 (80.0%)]\tLoss: 1.166944\n",
            "Epoch 0, Train Accuracy: 0.4309\n",
            "\n",
            "Test set: Average loss: 1.6974, Accuracy: 4291/10000 (42.9%)\n",
            "\n",
            "Train Epoch: 1 [0/50000 (0.0%)]\tLoss: 1.309176\n",
            "Train Epoch: 1 [10000/50000 (20.0%)]\tLoss: 1.069333\n",
            "Train Epoch: 1 [20000/50000 (40.0%)]\tLoss: 1.062895\n",
            "Train Epoch: 1 [30000/50000 (60.0%)]\tLoss: 1.129283\n",
            "Train Epoch: 1 [40000/50000 (80.0%)]\tLoss: 1.189605\n",
            "Epoch 1, Train Accuracy: 0.5785\n",
            "\n",
            "Test set: Average loss: 2.1785, Accuracy: 3372/10000 (33.7%)\n",
            "\n",
            "Train Epoch: 2 [0/50000 (0.0%)]\tLoss: 1.348280\n",
            "Train Epoch: 2 [10000/50000 (20.0%)]\tLoss: 0.874569\n",
            "Train Epoch: 2 [20000/50000 (40.0%)]\tLoss: 1.032203\n",
            "Train Epoch: 2 [30000/50000 (60.0%)]\tLoss: 1.194120\n",
            "Train Epoch: 2 [40000/50000 (80.0%)]\tLoss: 1.050684\n",
            "Epoch 2, Train Accuracy: 0.6349\n",
            "\n",
            "Test set: Average loss: 1.3444, Accuracy: 5591/10000 (55.9%)\n",
            "\n",
            "Train Epoch: 3 [0/50000 (0.0%)]\tLoss: 0.892748\n",
            "Train Epoch: 3 [10000/50000 (20.0%)]\tLoss: 0.895303\n",
            "Train Epoch: 3 [20000/50000 (40.0%)]\tLoss: 1.116769\n",
            "Train Epoch: 3 [30000/50000 (60.0%)]\tLoss: 0.827932\n",
            "Train Epoch: 3 [40000/50000 (80.0%)]\tLoss: 0.819266\n",
            "Epoch 3, Train Accuracy: 0.6742\n",
            "\n",
            "Test set: Average loss: 1.2509, Accuracy: 6155/10000 (61.5%)\n",
            "\n",
            "Train Epoch: 4 [0/50000 (0.0%)]\tLoss: 0.738824\n",
            "Train Epoch: 4 [10000/50000 (20.0%)]\tLoss: 0.825566\n",
            "Train Epoch: 4 [20000/50000 (40.0%)]\tLoss: 0.691528\n",
            "Train Epoch: 4 [30000/50000 (60.0%)]\tLoss: 0.803113\n",
            "Train Epoch: 4 [40000/50000 (80.0%)]\tLoss: 0.802419\n",
            "Epoch 4, Train Accuracy: 0.7042\n",
            "\n",
            "Test set: Average loss: 1.1325, Accuracy: 6489/10000 (64.9%)\n",
            "\n",
            "Train Epoch: 5 [0/50000 (0.0%)]\tLoss: 0.846258\n",
            "Train Epoch: 5 [10000/50000 (20.0%)]\tLoss: 0.851989\n",
            "Train Epoch: 5 [20000/50000 (40.0%)]\tLoss: 0.832776\n",
            "Train Epoch: 5 [30000/50000 (60.0%)]\tLoss: 0.768919\n",
            "Train Epoch: 5 [40000/50000 (80.0%)]\tLoss: 0.695981\n",
            "Epoch 5, Train Accuracy: 0.7292\n",
            "\n",
            "Test set: Average loss: 1.8475, Accuracy: 5081/10000 (50.8%)\n",
            "\n",
            "Train Epoch: 6 [0/50000 (0.0%)]\tLoss: 0.628866\n",
            "Train Epoch: 6 [10000/50000 (20.0%)]\tLoss: 0.823317\n",
            "Train Epoch: 6 [20000/50000 (40.0%)]\tLoss: 0.707014\n",
            "Train Epoch: 6 [30000/50000 (60.0%)]\tLoss: 0.641421\n",
            "Train Epoch: 6 [40000/50000 (80.0%)]\tLoss: 0.697307\n",
            "Epoch 6, Train Accuracy: 0.7496\n",
            "\n",
            "Test set: Average loss: 1.4613, Accuracy: 5900/10000 (59.0%)\n",
            "\n",
            "Train Epoch: 7 [0/50000 (0.0%)]\tLoss: 0.740167\n",
            "Train Epoch: 7 [10000/50000 (20.0%)]\tLoss: 0.492680\n",
            "Train Epoch: 7 [20000/50000 (40.0%)]\tLoss: 0.729564\n",
            "Train Epoch: 7 [30000/50000 (60.0%)]\tLoss: 0.526800\n",
            "Train Epoch: 7 [40000/50000 (80.0%)]\tLoss: 0.777820\n",
            "Epoch 7, Train Accuracy: 0.7592\n",
            "\n",
            "Test set: Average loss: 0.8017, Accuracy: 7325/10000 (73.2%)\n",
            "\n",
            "Train Epoch: 8 [0/50000 (0.0%)]\tLoss: 0.585276\n",
            "Train Epoch: 8 [10000/50000 (20.0%)]\tLoss: 0.571707\n",
            "Train Epoch: 8 [20000/50000 (40.0%)]\tLoss: 0.866959\n",
            "Train Epoch: 8 [30000/50000 (60.0%)]\tLoss: 0.754972\n",
            "Train Epoch: 8 [40000/50000 (80.0%)]\tLoss: 0.998039\n",
            "Epoch 8, Train Accuracy: 0.7736\n",
            "\n",
            "Test set: Average loss: 1.0648, Accuracy: 6911/10000 (69.1%)\n",
            "\n",
            "Train Epoch: 9 [0/50000 (0.0%)]\tLoss: 0.568033\n",
            "Train Epoch: 9 [10000/50000 (20.0%)]\tLoss: 0.752473\n",
            "Train Epoch: 9 [20000/50000 (40.0%)]\tLoss: 0.801643\n",
            "Train Epoch: 9 [30000/50000 (60.0%)]\tLoss: 0.778281\n",
            "Train Epoch: 9 [40000/50000 (80.0%)]\tLoss: 0.665135\n",
            "Epoch 9, Train Accuracy: 0.7823\n",
            "\n",
            "Test set: Average loss: 0.8922, Accuracy: 7173/10000 (71.7%)\n",
            "\n",
            "Train Epoch: 10 [0/50000 (0.0%)]\tLoss: 0.609754\n",
            "Train Epoch: 10 [10000/50000 (20.0%)]\tLoss: 0.543818\n",
            "Train Epoch: 10 [20000/50000 (40.0%)]\tLoss: 0.710230\n",
            "Train Epoch: 10 [30000/50000 (60.0%)]\tLoss: 0.534148\n",
            "Train Epoch: 10 [40000/50000 (80.0%)]\tLoss: 0.593163\n",
            "Epoch 10, Train Accuracy: 0.7847\n",
            "\n",
            "Test set: Average loss: 0.9680, Accuracy: 7073/10000 (70.7%)\n",
            "\n",
            "Train Epoch: 11 [0/50000 (0.0%)]\tLoss: 0.721308\n",
            "Train Epoch: 11 [10000/50000 (20.0%)]\tLoss: 0.674658\n",
            "Train Epoch: 11 [20000/50000 (40.0%)]\tLoss: 0.724566\n",
            "Train Epoch: 11 [30000/50000 (60.0%)]\tLoss: 0.722853\n",
            "Train Epoch: 11 [40000/50000 (80.0%)]\tLoss: 0.671275\n",
            "Epoch 11, Train Accuracy: 0.7910\n",
            "\n",
            "Test set: Average loss: 0.8207, Accuracy: 7437/10000 (74.4%)\n",
            "\n",
            "Train Epoch: 12 [0/50000 (0.0%)]\tLoss: 0.581593\n",
            "Train Epoch: 12 [10000/50000 (20.0%)]\tLoss: 0.708936\n",
            "Train Epoch: 12 [20000/50000 (40.0%)]\tLoss: 0.665859\n",
            "Train Epoch: 12 [30000/50000 (60.0%)]\tLoss: 0.560397\n",
            "Train Epoch: 12 [40000/50000 (80.0%)]\tLoss: 0.523132\n",
            "Epoch 12, Train Accuracy: 0.7954\n",
            "\n",
            "Test set: Average loss: 1.3911, Accuracy: 6268/10000 (62.7%)\n",
            "\n",
            "Train Epoch: 13 [0/50000 (0.0%)]\tLoss: 0.616401\n",
            "Train Epoch: 13 [10000/50000 (20.0%)]\tLoss: 0.620500\n",
            "Train Epoch: 13 [20000/50000 (40.0%)]\tLoss: 0.463589\n",
            "Train Epoch: 13 [30000/50000 (60.0%)]\tLoss: 0.738346\n",
            "Train Epoch: 13 [40000/50000 (80.0%)]\tLoss: 0.512281\n",
            "Epoch 13, Train Accuracy: 0.8039\n",
            "\n",
            "Test set: Average loss: 1.3862, Accuracy: 6638/10000 (66.4%)\n",
            "\n",
            "Train Epoch: 14 [0/50000 (0.0%)]\tLoss: 0.590389\n",
            "Train Epoch: 14 [10000/50000 (20.0%)]\tLoss: 0.661520\n",
            "Train Epoch: 14 [20000/50000 (40.0%)]\tLoss: 0.754926\n",
            "Train Epoch: 14 [30000/50000 (60.0%)]\tLoss: 0.705795\n",
            "Train Epoch: 14 [40000/50000 (80.0%)]\tLoss: 0.393275\n",
            "Epoch 14, Train Accuracy: 0.8053\n",
            "\n",
            "Test set: Average loss: 1.0918, Accuracy: 6550/10000 (65.5%)\n",
            "\n",
            "Train Epoch: 15 [0/50000 (0.0%)]\tLoss: 0.464396\n",
            "Train Epoch: 15 [10000/50000 (20.0%)]\tLoss: 0.336207\n",
            "Train Epoch: 15 [20000/50000 (40.0%)]\tLoss: 0.475586\n",
            "Train Epoch: 15 [30000/50000 (60.0%)]\tLoss: 0.510436\n",
            "Train Epoch: 15 [40000/50000 (80.0%)]\tLoss: 0.516411\n",
            "Epoch 15, Train Accuracy: 0.8083\n",
            "\n",
            "Test set: Average loss: 1.6095, Accuracy: 5740/10000 (57.4%)\n",
            "\n",
            "Train Epoch: 16 [0/50000 (0.0%)]\tLoss: 0.558379\n",
            "Train Epoch: 16 [10000/50000 (20.0%)]\tLoss: 0.457243\n",
            "Train Epoch: 16 [20000/50000 (40.0%)]\tLoss: 0.525173\n",
            "Train Epoch: 16 [30000/50000 (60.0%)]\tLoss: 0.732515\n",
            "Train Epoch: 16 [40000/50000 (80.0%)]\tLoss: 0.446453\n",
            "Epoch 16, Train Accuracy: 0.8121\n",
            "\n",
            "Test set: Average loss: 1.6552, Accuracy: 5763/10000 (57.6%)\n",
            "\n",
            "Train Epoch: 17 [0/50000 (0.0%)]\tLoss: 0.604008\n",
            "Train Epoch: 17 [10000/50000 (20.0%)]\tLoss: 0.524303\n",
            "Train Epoch: 17 [20000/50000 (40.0%)]\tLoss: 0.444735\n",
            "Train Epoch: 17 [30000/50000 (60.0%)]\tLoss: 0.571814\n",
            "Train Epoch: 17 [40000/50000 (80.0%)]\tLoss: 0.626355\n",
            "Epoch 17, Train Accuracy: 0.8188\n",
            "\n",
            "Test set: Average loss: 0.9202, Accuracy: 7092/10000 (70.9%)\n",
            "\n",
            "Train Epoch: 18 [0/50000 (0.0%)]\tLoss: 0.555821\n",
            "Train Epoch: 18 [10000/50000 (20.0%)]\tLoss: 0.653647\n",
            "Train Epoch: 18 [20000/50000 (40.0%)]\tLoss: 0.598194\n",
            "Train Epoch: 18 [30000/50000 (60.0%)]\tLoss: 0.441225\n",
            "Train Epoch: 18 [40000/50000 (80.0%)]\tLoss: 0.415342\n",
            "Epoch 18, Train Accuracy: 0.8190\n",
            "\n",
            "Test set: Average loss: 0.7136, Accuracy: 7696/10000 (77.0%)\n",
            "\n",
            "Train Epoch: 19 [0/50000 (0.0%)]\tLoss: 0.514608\n",
            "Train Epoch: 19 [10000/50000 (20.0%)]\tLoss: 0.827120\n",
            "Train Epoch: 19 [20000/50000 (40.0%)]\tLoss: 0.380689\n",
            "Train Epoch: 19 [30000/50000 (60.0%)]\tLoss: 0.491390\n",
            "Train Epoch: 19 [40000/50000 (80.0%)]\tLoss: 0.667358\n",
            "Epoch 19, Train Accuracy: 0.8228\n",
            "\n",
            "Test set: Average loss: 1.3875, Accuracy: 6523/10000 (65.2%)\n",
            "\n",
            "Train Epoch: 20 [0/50000 (0.0%)]\tLoss: 0.598870\n",
            "Train Epoch: 20 [10000/50000 (20.0%)]\tLoss: 0.548865\n",
            "Train Epoch: 20 [20000/50000 (40.0%)]\tLoss: 0.663470\n",
            "Train Epoch: 20 [30000/50000 (60.0%)]\tLoss: 0.456709\n",
            "Train Epoch: 20 [40000/50000 (80.0%)]\tLoss: 0.705347\n",
            "Epoch 20, Train Accuracy: 0.8205\n",
            "\n",
            "Test set: Average loss: 1.0810, Accuracy: 6657/10000 (66.6%)\n",
            "\n",
            "Train Epoch: 21 [0/50000 (0.0%)]\tLoss: 0.672625\n",
            "Train Epoch: 21 [10000/50000 (20.0%)]\tLoss: 0.731540\n",
            "Train Epoch: 21 [20000/50000 (40.0%)]\tLoss: 0.617288\n",
            "Train Epoch: 21 [30000/50000 (60.0%)]\tLoss: 0.487960\n",
            "Train Epoch: 21 [40000/50000 (80.0%)]\tLoss: 0.514172\n",
            "Epoch 21, Train Accuracy: 0.8266\n",
            "\n",
            "Test set: Average loss: 0.8618, Accuracy: 7429/10000 (74.3%)\n",
            "\n",
            "Train Epoch: 22 [0/50000 (0.0%)]\tLoss: 0.468013\n",
            "Train Epoch: 22 [10000/50000 (20.0%)]\tLoss: 0.584365\n",
            "Train Epoch: 22 [20000/50000 (40.0%)]\tLoss: 0.338850\n",
            "Train Epoch: 22 [30000/50000 (60.0%)]\tLoss: 0.764387\n",
            "Train Epoch: 22 [40000/50000 (80.0%)]\tLoss: 0.626174\n",
            "Epoch 22, Train Accuracy: 0.8277\n",
            "\n",
            "Test set: Average loss: 0.6670, Accuracy: 7864/10000 (78.6%)\n",
            "\n",
            "Train Epoch: 23 [0/50000 (0.0%)]\tLoss: 0.432450\n",
            "Train Epoch: 23 [10000/50000 (20.0%)]\tLoss: 0.553941\n",
            "Train Epoch: 23 [20000/50000 (40.0%)]\tLoss: 0.428017\n",
            "Train Epoch: 23 [30000/50000 (60.0%)]\tLoss: 0.394268\n",
            "Train Epoch: 23 [40000/50000 (80.0%)]\tLoss: 0.573938\n",
            "Epoch 23, Train Accuracy: 0.8282\n",
            "\n",
            "Test set: Average loss: 0.6453, Accuracy: 7853/10000 (78.5%)\n",
            "\n",
            "Train Epoch: 24 [0/50000 (0.0%)]\tLoss: 0.425903\n",
            "Train Epoch: 24 [10000/50000 (20.0%)]\tLoss: 0.475942\n",
            "Train Epoch: 24 [20000/50000 (40.0%)]\tLoss: 0.458268\n",
            "Train Epoch: 24 [30000/50000 (60.0%)]\tLoss: 0.567172\n",
            "Train Epoch: 24 [40000/50000 (80.0%)]\tLoss: 0.719030\n",
            "Epoch 24, Train Accuracy: 0.8293\n",
            "\n",
            "Test set: Average loss: 1.1673, Accuracy: 6519/10000 (65.2%)\n",
            "\n",
            "Train Epoch: 25 [0/50000 (0.0%)]\tLoss: 0.739514\n",
            "Train Epoch: 25 [10000/50000 (20.0%)]\tLoss: 0.448563\n",
            "Train Epoch: 25 [20000/50000 (40.0%)]\tLoss: 0.589048\n",
            "Train Epoch: 25 [30000/50000 (60.0%)]\tLoss: 0.593200\n",
            "Train Epoch: 25 [40000/50000 (80.0%)]\tLoss: 0.457645\n",
            "Epoch 25, Train Accuracy: 0.8327\n",
            "\n",
            "Test set: Average loss: 1.1077, Accuracy: 6785/10000 (67.8%)\n",
            "\n",
            "Train Epoch: 26 [0/50000 (0.0%)]\tLoss: 0.521727\n",
            "Train Epoch: 26 [10000/50000 (20.0%)]\tLoss: 0.452011\n",
            "Train Epoch: 26 [20000/50000 (40.0%)]\tLoss: 0.368513\n",
            "Train Epoch: 26 [30000/50000 (60.0%)]\tLoss: 0.361679\n",
            "Train Epoch: 26 [40000/50000 (80.0%)]\tLoss: 0.480105\n",
            "Epoch 26, Train Accuracy: 0.8324\n",
            "\n",
            "Test set: Average loss: 0.6958, Accuracy: 7768/10000 (77.7%)\n",
            "\n",
            "Train Epoch: 27 [0/50000 (0.0%)]\tLoss: 0.405333\n",
            "Train Epoch: 27 [10000/50000 (20.0%)]\tLoss: 0.524648\n",
            "Train Epoch: 27 [20000/50000 (40.0%)]\tLoss: 0.401117\n",
            "Train Epoch: 27 [30000/50000 (60.0%)]\tLoss: 0.717838\n",
            "Train Epoch: 27 [40000/50000 (80.0%)]\tLoss: 0.552987\n",
            "Epoch 27, Train Accuracy: 0.8353\n",
            "\n",
            "Test set: Average loss: 1.2684, Accuracy: 6620/10000 (66.2%)\n",
            "\n",
            "Train Epoch: 28 [0/50000 (0.0%)]\tLoss: 0.523166\n",
            "Train Epoch: 28 [10000/50000 (20.0%)]\tLoss: 0.533210\n",
            "Train Epoch: 28 [20000/50000 (40.0%)]\tLoss: 0.548015\n",
            "Train Epoch: 28 [30000/50000 (60.0%)]\tLoss: 0.463167\n",
            "Train Epoch: 28 [40000/50000 (80.0%)]\tLoss: 0.511523\n",
            "Epoch 28, Train Accuracy: 0.8345\n",
            "\n",
            "Test set: Average loss: 0.6680, Accuracy: 7739/10000 (77.4%)\n",
            "\n",
            "Train Epoch: 29 [0/50000 (0.0%)]\tLoss: 0.430160\n",
            "Train Epoch: 29 [10000/50000 (20.0%)]\tLoss: 0.378171\n",
            "Train Epoch: 29 [20000/50000 (40.0%)]\tLoss: 0.501518\n",
            "Train Epoch: 29 [30000/50000 (60.0%)]\tLoss: 0.556807\n",
            "Train Epoch: 29 [40000/50000 (80.0%)]\tLoss: 0.340307\n",
            "Epoch 29, Train Accuracy: 0.8360\n",
            "\n",
            "Test set: Average loss: 0.7790, Accuracy: 7544/10000 (75.4%)\n",
            "\n",
            "Train Epoch: 30 [0/50000 (0.0%)]\tLoss: 0.520852\n",
            "Train Epoch: 30 [10000/50000 (20.0%)]\tLoss: 0.459312\n",
            "Train Epoch: 30 [20000/50000 (40.0%)]\tLoss: 0.448797\n",
            "Train Epoch: 30 [30000/50000 (60.0%)]\tLoss: 0.297395\n",
            "Train Epoch: 30 [40000/50000 (80.0%)]\tLoss: 0.293843\n",
            "Epoch 30, Train Accuracy: 0.8872\n",
            "\n",
            "Test set: Average loss: 0.3653, Accuracy: 8791/10000 (87.9%)\n",
            "\n",
            "Train Epoch: 31 [0/50000 (0.0%)]\tLoss: 0.273751\n",
            "Train Epoch: 31 [10000/50000 (20.0%)]\tLoss: 0.218571\n",
            "Train Epoch: 31 [20000/50000 (40.0%)]\tLoss: 0.282654\n",
            "Train Epoch: 31 [30000/50000 (60.0%)]\tLoss: 0.308237\n",
            "Train Epoch: 31 [40000/50000 (80.0%)]\tLoss: 0.336243\n",
            "Epoch 31, Train Accuracy: 0.8971\n",
            "\n",
            "Test set: Average loss: 0.3713, Accuracy: 8761/10000 (87.6%)\n",
            "\n",
            "Train Epoch: 32 [0/50000 (0.0%)]\tLoss: 0.325664\n",
            "Train Epoch: 32 [10000/50000 (20.0%)]\tLoss: 0.282141\n",
            "Train Epoch: 32 [20000/50000 (40.0%)]\tLoss: 0.387753\n",
            "Train Epoch: 32 [30000/50000 (60.0%)]\tLoss: 0.288737\n",
            "Train Epoch: 32 [40000/50000 (80.0%)]\tLoss: 0.320045\n",
            "Epoch 32, Train Accuracy: 0.9014\n",
            "\n",
            "Test set: Average loss: 0.3780, Accuracy: 8781/10000 (87.8%)\n",
            "\n",
            "Train Epoch: 33 [0/50000 (0.0%)]\tLoss: 0.374616\n",
            "Train Epoch: 33 [10000/50000 (20.0%)]\tLoss: 0.345400\n",
            "Train Epoch: 33 [20000/50000 (40.0%)]\tLoss: 0.309782\n",
            "Train Epoch: 33 [30000/50000 (60.0%)]\tLoss: 0.343389\n",
            "Train Epoch: 33 [40000/50000 (80.0%)]\tLoss: 0.315652\n",
            "Epoch 33, Train Accuracy: 0.9045\n",
            "\n",
            "Test set: Average loss: 0.4411, Accuracy: 8668/10000 (86.7%)\n",
            "\n",
            "Train Epoch: 34 [0/50000 (0.0%)]\tLoss: 0.211539\n",
            "Train Epoch: 34 [10000/50000 (20.0%)]\tLoss: 0.237747\n",
            "Train Epoch: 34 [20000/50000 (40.0%)]\tLoss: 0.326410\n",
            "Train Epoch: 34 [30000/50000 (60.0%)]\tLoss: 0.189119\n",
            "Train Epoch: 34 [40000/50000 (80.0%)]\tLoss: 0.278553\n",
            "Epoch 34, Train Accuracy: 0.9047\n",
            "\n",
            "Test set: Average loss: 0.3580, Accuracy: 8843/10000 (88.4%)\n",
            "\n",
            "Train Epoch: 35 [0/50000 (0.0%)]\tLoss: 0.411046\n",
            "Train Epoch: 35 [10000/50000 (20.0%)]\tLoss: 0.154603\n",
            "Train Epoch: 35 [20000/50000 (40.0%)]\tLoss: 0.285848\n",
            "Train Epoch: 35 [30000/50000 (60.0%)]\tLoss: 0.227636\n",
            "Train Epoch: 35 [40000/50000 (80.0%)]\tLoss: 0.382300\n",
            "Epoch 35, Train Accuracy: 0.9047\n",
            "\n",
            "Test set: Average loss: 0.3703, Accuracy: 8802/10000 (88.0%)\n",
            "\n",
            "Train Epoch: 36 [0/50000 (0.0%)]\tLoss: 0.290125\n",
            "Train Epoch: 36 [10000/50000 (20.0%)]\tLoss: 0.286463\n",
            "Train Epoch: 36 [20000/50000 (40.0%)]\tLoss: 0.338390\n",
            "Train Epoch: 36 [30000/50000 (60.0%)]\tLoss: 0.220908\n",
            "Train Epoch: 36 [40000/50000 (80.0%)]\tLoss: 0.321367\n",
            "Epoch 36, Train Accuracy: 0.9056\n",
            "\n",
            "Test set: Average loss: 0.3702, Accuracy: 8823/10000 (88.2%)\n",
            "\n",
            "Train Epoch: 37 [0/50000 (0.0%)]\tLoss: 0.158674\n",
            "Train Epoch: 37 [10000/50000 (20.0%)]\tLoss: 0.257702\n",
            "Train Epoch: 37 [20000/50000 (40.0%)]\tLoss: 0.302645\n",
            "Train Epoch: 37 [30000/50000 (60.0%)]\tLoss: 0.233089\n",
            "Train Epoch: 37 [40000/50000 (80.0%)]\tLoss: 0.396792\n",
            "Epoch 37, Train Accuracy: 0.9061\n",
            "\n",
            "Test set: Average loss: 0.4220, Accuracy: 8642/10000 (86.4%)\n",
            "\n",
            "Train Epoch: 38 [0/50000 (0.0%)]\tLoss: 0.235148\n",
            "Train Epoch: 38 [10000/50000 (20.0%)]\tLoss: 0.348128\n",
            "Train Epoch: 38 [20000/50000 (40.0%)]\tLoss: 0.240973\n",
            "Train Epoch: 38 [30000/50000 (60.0%)]\tLoss: 0.366557\n",
            "Train Epoch: 38 [40000/50000 (80.0%)]\tLoss: 0.321687\n",
            "Epoch 38, Train Accuracy: 0.9056\n",
            "\n",
            "Test set: Average loss: 0.4550, Accuracy: 8583/10000 (85.8%)\n",
            "\n",
            "Train Epoch: 39 [0/50000 (0.0%)]\tLoss: 0.140894\n",
            "Train Epoch: 39 [10000/50000 (20.0%)]\tLoss: 0.286329\n",
            "Train Epoch: 39 [20000/50000 (40.0%)]\tLoss: 0.332923\n",
            "Train Epoch: 39 [30000/50000 (60.0%)]\tLoss: 0.176351\n",
            "Train Epoch: 39 [40000/50000 (80.0%)]\tLoss: 0.217215\n",
            "Epoch 39, Train Accuracy: 0.9073\n",
            "\n",
            "Test set: Average loss: 0.4335, Accuracy: 8626/10000 (86.3%)\n",
            "\n",
            "Train Epoch: 40 [0/50000 (0.0%)]\tLoss: 0.173403\n",
            "Train Epoch: 40 [10000/50000 (20.0%)]\tLoss: 0.180977\n",
            "Train Epoch: 40 [20000/50000 (40.0%)]\tLoss: 0.169733\n",
            "Train Epoch: 40 [30000/50000 (60.0%)]\tLoss: 0.337956\n",
            "Train Epoch: 40 [40000/50000 (80.0%)]\tLoss: 0.293092\n",
            "Epoch 40, Train Accuracy: 0.9091\n",
            "\n",
            "Test set: Average loss: 0.3998, Accuracy: 8714/10000 (87.1%)\n",
            "\n",
            "Train Epoch: 41 [0/50000 (0.0%)]\tLoss: 0.229647\n",
            "Train Epoch: 41 [10000/50000 (20.0%)]\tLoss: 0.236454\n",
            "Train Epoch: 41 [20000/50000 (40.0%)]\tLoss: 0.193324\n",
            "Train Epoch: 41 [30000/50000 (60.0%)]\tLoss: 0.210864\n",
            "Train Epoch: 41 [40000/50000 (80.0%)]\tLoss: 0.376738\n",
            "Epoch 41, Train Accuracy: 0.9097\n",
            "\n",
            "Test set: Average loss: 0.3749, Accuracy: 8769/10000 (87.7%)\n",
            "\n",
            "Train Epoch: 42 [0/50000 (0.0%)]\tLoss: 0.230302\n",
            "Train Epoch: 42 [10000/50000 (20.0%)]\tLoss: 0.287310\n",
            "Train Epoch: 42 [20000/50000 (40.0%)]\tLoss: 0.345888\n",
            "Train Epoch: 42 [30000/50000 (60.0%)]\tLoss: 0.295362\n",
            "Train Epoch: 42 [40000/50000 (80.0%)]\tLoss: 0.163958\n",
            "Epoch 42, Train Accuracy: 0.9102\n",
            "\n",
            "Test set: Average loss: 0.4460, Accuracy: 8596/10000 (86.0%)\n",
            "\n",
            "Train Epoch: 43 [0/50000 (0.0%)]\tLoss: 0.279019\n",
            "Train Epoch: 43 [10000/50000 (20.0%)]\tLoss: 0.279366\n",
            "Train Epoch: 43 [20000/50000 (40.0%)]\tLoss: 0.287352\n",
            "Train Epoch: 43 [30000/50000 (60.0%)]\tLoss: 0.290989\n",
            "Train Epoch: 43 [40000/50000 (80.0%)]\tLoss: 0.416997\n",
            "Epoch 43, Train Accuracy: 0.9109\n",
            "\n",
            "Test set: Average loss: 0.4340, Accuracy: 8636/10000 (86.4%)\n",
            "\n",
            "Train Epoch: 44 [0/50000 (0.0%)]\tLoss: 0.208727\n",
            "Train Epoch: 44 [10000/50000 (20.0%)]\tLoss: 0.161925\n",
            "Train Epoch: 44 [20000/50000 (40.0%)]\tLoss: 0.249184\n",
            "Train Epoch: 44 [30000/50000 (60.0%)]\tLoss: 0.192822\n",
            "Train Epoch: 44 [40000/50000 (80.0%)]\tLoss: 0.137153\n",
            "Epoch 44, Train Accuracy: 0.9107\n",
            "\n",
            "Test set: Average loss: 0.4262, Accuracy: 8656/10000 (86.6%)\n",
            "\n",
            "Train Epoch: 45 [0/50000 (0.0%)]\tLoss: 0.261896\n",
            "Train Epoch: 45 [10000/50000 (20.0%)]\tLoss: 0.152247\n",
            "Train Epoch: 45 [20000/50000 (40.0%)]\tLoss: 0.174439\n",
            "Train Epoch: 45 [30000/50000 (60.0%)]\tLoss: 0.288036\n",
            "Train Epoch: 45 [40000/50000 (80.0%)]\tLoss: 0.192748\n",
            "Epoch 45, Train Accuracy: 0.9251\n",
            "\n",
            "Test set: Average loss: 0.3172, Accuracy: 8945/10000 (89.5%)\n",
            "\n",
            "Train Epoch: 46 [0/50000 (0.0%)]\tLoss: 0.239690\n",
            "Train Epoch: 46 [10000/50000 (20.0%)]\tLoss: 0.192741\n",
            "Train Epoch: 46 [20000/50000 (40.0%)]\tLoss: 0.186735\n",
            "Train Epoch: 46 [30000/50000 (60.0%)]\tLoss: 0.157663\n",
            "Train Epoch: 46 [40000/50000 (80.0%)]\tLoss: 0.230156\n",
            "Epoch 46, Train Accuracy: 0.9294\n",
            "\n",
            "Test set: Average loss: 0.3138, Accuracy: 8970/10000 (89.7%)\n",
            "\n",
            "Train Epoch: 47 [0/50000 (0.0%)]\tLoss: 0.304788\n",
            "Train Epoch: 47 [10000/50000 (20.0%)]\tLoss: 0.279963\n",
            "Train Epoch: 47 [20000/50000 (40.0%)]\tLoss: 0.264966\n",
            "Train Epoch: 47 [30000/50000 (60.0%)]\tLoss: 0.221345\n",
            "Train Epoch: 47 [40000/50000 (80.0%)]\tLoss: 0.207755\n",
            "Epoch 47, Train Accuracy: 0.9297\n",
            "\n",
            "Test set: Average loss: 0.3136, Accuracy: 8954/10000 (89.5%)\n",
            "\n",
            "Train Epoch: 48 [0/50000 (0.0%)]\tLoss: 0.182856\n",
            "Train Epoch: 48 [10000/50000 (20.0%)]\tLoss: 0.124586\n",
            "Train Epoch: 48 [20000/50000 (40.0%)]\tLoss: 0.202006\n",
            "Train Epoch: 48 [30000/50000 (60.0%)]\tLoss: 0.344460\n",
            "Train Epoch: 48 [40000/50000 (80.0%)]\tLoss: 0.162924\n",
            "Epoch 48, Train Accuracy: 0.9293\n",
            "\n",
            "Test set: Average loss: 0.3178, Accuracy: 8942/10000 (89.4%)\n",
            "\n",
            "Train Epoch: 49 [0/50000 (0.0%)]\tLoss: 0.189369\n",
            "Train Epoch: 49 [10000/50000 (20.0%)]\tLoss: 0.230248\n",
            "Train Epoch: 49 [20000/50000 (40.0%)]\tLoss: 0.236083\n",
            "Train Epoch: 49 [30000/50000 (60.0%)]\tLoss: 0.177160\n",
            "Train Epoch: 49 [40000/50000 (80.0%)]\tLoss: 0.184450\n",
            "Epoch 49, Train Accuracy: 0.9315\n",
            "\n",
            "Test set: Average loss: 0.3198, Accuracy: 8970/10000 (89.7%)\n",
            "\n",
            "Train Epoch: 50 [0/50000 (0.0%)]\tLoss: 0.188917\n",
            "Train Epoch: 50 [10000/50000 (20.0%)]\tLoss: 0.146980\n",
            "Train Epoch: 50 [20000/50000 (40.0%)]\tLoss: 0.204844\n",
            "Train Epoch: 50 [30000/50000 (60.0%)]\tLoss: 0.166470\n",
            "Train Epoch: 50 [40000/50000 (80.0%)]\tLoss: 0.312024\n",
            "Epoch 50, Train Accuracy: 0.9309\n",
            "\n",
            "Test set: Average loss: 0.3149, Accuracy: 8971/10000 (89.7%)\n",
            "\n",
            "Train Epoch: 51 [0/50000 (0.0%)]\tLoss: 0.173379\n",
            "Train Epoch: 51 [10000/50000 (20.0%)]\tLoss: 0.210918\n",
            "Train Epoch: 51 [20000/50000 (40.0%)]\tLoss: 0.286032\n",
            "Train Epoch: 51 [30000/50000 (60.0%)]\tLoss: 0.171917\n",
            "Train Epoch: 51 [40000/50000 (80.0%)]\tLoss: 0.214557\n",
            "Epoch 51, Train Accuracy: 0.9314\n",
            "\n",
            "Test set: Average loss: 0.3214, Accuracy: 8967/10000 (89.7%)\n",
            "\n",
            "Train Epoch: 52 [0/50000 (0.0%)]\tLoss: 0.276690\n",
            "Train Epoch: 52 [10000/50000 (20.0%)]\tLoss: 0.097586\n",
            "Train Epoch: 52 [20000/50000 (40.0%)]\tLoss: 0.153296\n",
            "Train Epoch: 52 [30000/50000 (60.0%)]\tLoss: 0.230348\n",
            "Train Epoch: 52 [40000/50000 (80.0%)]\tLoss: 0.229261\n",
            "Epoch 52, Train Accuracy: 0.9298\n",
            "\n",
            "Test set: Average loss: 0.3155, Accuracy: 8958/10000 (89.6%)\n",
            "\n",
            "Train Epoch: 53 [0/50000 (0.0%)]\tLoss: 0.260001\n",
            "Train Epoch: 53 [10000/50000 (20.0%)]\tLoss: 0.147329\n",
            "Train Epoch: 53 [20000/50000 (40.0%)]\tLoss: 0.155565\n",
            "Train Epoch: 53 [30000/50000 (60.0%)]\tLoss: 0.154666\n",
            "Train Epoch: 53 [40000/50000 (80.0%)]\tLoss: 0.372666\n",
            "Epoch 53, Train Accuracy: 0.9313\n",
            "\n",
            "Test set: Average loss: 0.3203, Accuracy: 8970/10000 (89.7%)\n",
            "\n",
            "Train Epoch: 54 [0/50000 (0.0%)]\tLoss: 0.136003\n",
            "Train Epoch: 54 [10000/50000 (20.0%)]\tLoss: 0.253422\n",
            "Train Epoch: 54 [20000/50000 (40.0%)]\tLoss: 0.191247\n",
            "Train Epoch: 54 [30000/50000 (60.0%)]\tLoss: 0.287148\n",
            "Train Epoch: 54 [40000/50000 (80.0%)]\tLoss: 0.169941\n",
            "Epoch 54, Train Accuracy: 0.9316\n",
            "\n",
            "Test set: Average loss: 0.3230, Accuracy: 8957/10000 (89.6%)\n",
            "\n",
            "Train Epoch: 55 [0/50000 (0.0%)]\tLoss: 0.241616\n",
            "Train Epoch: 55 [10000/50000 (20.0%)]\tLoss: 0.134549\n",
            "Train Epoch: 55 [20000/50000 (40.0%)]\tLoss: 0.200632\n",
            "Train Epoch: 55 [30000/50000 (60.0%)]\tLoss: 0.139438\n",
            "Train Epoch: 55 [40000/50000 (80.0%)]\tLoss: 0.182445\n",
            "Epoch 55, Train Accuracy: 0.9299\n",
            "\n",
            "Test set: Average loss: 0.3180, Accuracy: 8957/10000 (89.6%)\n",
            "\n",
            "Train Epoch: 56 [0/50000 (0.0%)]\tLoss: 0.169180\n",
            "Train Epoch: 56 [10000/50000 (20.0%)]\tLoss: 0.184139\n",
            "Train Epoch: 56 [20000/50000 (40.0%)]\tLoss: 0.105783\n",
            "Train Epoch: 56 [30000/50000 (60.0%)]\tLoss: 0.179477\n",
            "Train Epoch: 56 [40000/50000 (80.0%)]\tLoss: 0.150950\n",
            "Epoch 56, Train Accuracy: 0.9310\n",
            "\n",
            "Test set: Average loss: 0.3267, Accuracy: 8952/10000 (89.5%)\n",
            "\n",
            "Train Epoch: 57 [0/50000 (0.0%)]\tLoss: 0.248722\n",
            "Train Epoch: 57 [10000/50000 (20.0%)]\tLoss: 0.236898\n",
            "Train Epoch: 57 [20000/50000 (40.0%)]\tLoss: 0.163649\n",
            "Train Epoch: 57 [30000/50000 (60.0%)]\tLoss: 0.169262\n",
            "Train Epoch: 57 [40000/50000 (80.0%)]\tLoss: 0.177050\n",
            "Epoch 57, Train Accuracy: 0.9331\n",
            "\n",
            "Test set: Average loss: 0.3215, Accuracy: 8945/10000 (89.5%)\n",
            "\n",
            "Train Epoch: 58 [0/50000 (0.0%)]\tLoss: 0.195609\n",
            "Train Epoch: 58 [10000/50000 (20.0%)]\tLoss: 0.091464\n",
            "Train Epoch: 58 [20000/50000 (40.0%)]\tLoss: 0.160613\n",
            "Train Epoch: 58 [30000/50000 (60.0%)]\tLoss: 0.152845\n",
            "Train Epoch: 58 [40000/50000 (80.0%)]\tLoss: 0.279048\n",
            "Epoch 58, Train Accuracy: 0.9304\n",
            "\n",
            "Test set: Average loss: 0.3213, Accuracy: 8940/10000 (89.4%)\n",
            "\n",
            "Train Epoch: 59 [0/50000 (0.0%)]\tLoss: 0.083152\n",
            "Train Epoch: 59 [10000/50000 (20.0%)]\tLoss: 0.251676\n",
            "Train Epoch: 59 [20000/50000 (40.0%)]\tLoss: 0.240481\n",
            "Train Epoch: 59 [30000/50000 (60.0%)]\tLoss: 0.240408\n",
            "Train Epoch: 59 [40000/50000 (80.0%)]\tLoss: 0.156879\n",
            "Epoch 59, Train Accuracy: 0.9321\n",
            "\n",
            "Test set: Average loss: 0.3243, Accuracy: 8969/10000 (89.7%)\n",
            "\n"
          ]
        }
      ],
      "source": [
        "#### 訓練函數 #####\n",
        "# 新增變數來記錄每個 epoch 的訓練和測試精度\n",
        "train_accuracies = []\n",
        "test_accuracies = []\n",
        "\n",
        "\n",
        "# 注意: 需自行撰寫儲存每個epoch之train acc的code，以便後續繪製train acc結果圖!\n",
        "def train(epoch):\n",
        "    model.train()\n",
        "    correct = 0  # 用來計算訓練精度\n",
        "    total = 0    # 紀錄總數\n",
        "\n",
        "    for batch_idx, (data, target) in enumerate(train_loader):\n",
        "        if CUDA:\n",
        "            data, target = data.cuda(), target.cuda()\n",
        "        data, target = Variable(data), Variable(target)\n",
        "        optimizer.zero_grad()\n",
        "        output = model(data)\n",
        "        loss = F.cross_entropy(output, target)\n",
        "        loss.backward()\n",
        "\n",
        "        if SPARSITY_REGULARIZATION:\n",
        "            updateBN()\n",
        "        optimizer.step()\n",
        "\n",
        "        # 計算訓練精度\n",
        "        pred = output.data.max(1, keepdim=True)[1]\n",
        "        correct += pred.eq(target.data.view_as(pred)).cpu().sum().item()\n",
        "        total += target.size(0)\n",
        "\n",
        "        if batch_idx % LOG_INTERVAL == 0:\n",
        "            print('Train Epoch: {} [{}/{} ({:.1f}%)]\\tLoss: {:.6f}'.format(\n",
        "                epoch, batch_idx * len(data), len(train_loader.dataset),\n",
        "                100. * batch_idx / len(train_loader), loss.data.item()))\n",
        "\n",
        "    # 計算並記錄當前 epoch 的訓練精度\n",
        "    train_accuracy = correct / total\n",
        "    train_accuracies.append(train_accuracy)\n",
        "    print(f'Epoch {epoch}, Train Accuracy: {train_accuracy:.4f}')\n",
        "\n",
        "#### 測試函數 ####\n",
        "def test():\n",
        "    model.eval()\n",
        "    test_loss = 0\n",
        "    correct = 0\n",
        "\n",
        "    with torch.no_grad():\n",
        "        for data, target in test_loader:\n",
        "            if CUDA:\n",
        "                data, target = data.cuda(), target.cuda()\n",
        "            data, target = Variable(data), Variable(target)\n",
        "            output = model(data)\n",
        "            test_loss += F.cross_entropy(output, target, reduction='sum').data.item()\n",
        "            pred = output.data.max(1, keepdim=True)[1]\n",
        "            correct += pred.eq(target.data.view_as(pred)).cpu().sum()\n",
        "\n",
        "    test_loss /= len(test_loader.dataset)\n",
        "    test_accuracy = correct / float(len(test_loader.dataset))\n",
        "    test_accuracies.append(test_accuracy)  # 記錄測試精度\n",
        "    print('\\nTest set: Average loss: {:.4f}, Accuracy: {}/{} ({:.1f}%)\\n'.format(\n",
        "        test_loss, correct, len(test_loader.dataset),\n",
        "        100. * test_accuracy))\n",
        "    return test_accuracy\n",
        "\n",
        "best_prec1 = 0.\n",
        "for epoch in range(START_EPOCH, EPOCHS):\n",
        "    # Learning Rate在0.5EPOCHS與0.75EPOCHS調整為原本1/10\n",
        "    if epoch in [EPOCHS*0.5, EPOCHS*0.75]:\n",
        "        for param_group in optimizer.param_groups:\n",
        "            param_group['lr'] *= 0.1\n",
        "    train(epoch)\n",
        "    prec1 = test()\n",
        "\n",
        "    # 儲存模型權重，方便做後續剪枝,後續訓練\n",
        "    if(prec1 > best_prec1):\n",
        "        torch.save({\n",
        "            'epoch': epoch + 1,\n",
        "            'state_dict': model.state_dict(),\n",
        "            'best_prec1': best_prec1,\n",
        "            'optimizer': optimizer.state_dict(),\n",
        "        }, WEIGHT_PATH)\n",
        "\n",
        "    best_prec1 = max(prec1, best_prec1)\n"
      ]
    },
    {
      "cell_type": "markdown",
      "source": [
        "##繪製Sparsity-Training結果圖"
      ],
      "metadata": {
        "id": "pPoQuFgx3mD9"
      }
    },
    {
      "cell_type": "code",
      "source": [
        "import matplotlib.pyplot as plt\n",
        "\n",
        "# 訓練結束後繪製曲線\n",
        "epochs = range(1, EPOCHS + 1)\n",
        "plt.figure(figsize=(10, 5))\n",
        "\n",
        "# 繪製訓練精度\n",
        "plt.plot(epochs, train_accuracies, label='Train Accuracy', marker='o')\n",
        "\n",
        "# 繪製測試精度\n",
        "plt.plot(epochs, test_accuracies, label='Test Accuracy', marker='x')\n",
        "\n",
        "# 標註\n",
        "plt.xlabel('Epoch')\n",
        "plt.ylabel('Accuracy')\n",
        "plt.title('Train and Test Accuracy per Epoch')\n",
        "plt.legend()\n",
        "plt.grid(True)\n",
        "plt.show()\n"
      ],
      "metadata": {
        "id": "x7O2cE4q52A-",
        "colab": {
          "base_uri": "https://localhost:8080/",
          "height": 428
        },
        "outputId": "5d641414-f1ed-4449-c22c-6b84b4206e42"
      },
      "execution_count": 12,
      "outputs": [
        {
          "output_type": "display_data",
          "data": {
            "text/plain": [
              "<Figure size 1000x500 with 1 Axes>"
            ],
            "image/png": "[encoded data removed]"
          },
          "metadata": {}
        }
      ]
    },
    {
      "cell_type": "markdown",
      "source": [
        "## 繪製scaling factor 分布圖"
      ],
      "metadata": {
        "id": "nw_CWhNSC7wT"
      }
    },
    {
      "cell_type": "code",
      "source": [
        "#繪製 scaling factor 分布圖\n",
        "#繪製 scaling factor 分布圖\n",
        "import matplotlib.pyplot as plt\n",
        "\n",
        "def plot_scaling_factor_distribution(model):\n",
        "    scaling_factors = []\n",
        "\n",
        "    # 遍歷模型的所有層，提取 BatchNorm 層的縮放因子 (weight)\n",
        "    for m in model.modules():\n",
        "        if isinstance(m, nn.BatchNorm2d):\n",
        "            scaling_factors.extend(m.weight.data.cpu().numpy())  # 將縮放因子加到列表中\n",
        "\n",
        "    # 繪製直方圖顯示 scaling factor 的分布\n",
        "    plt.figure(figsize=(10, 5))\n",
        "    plt.hist(scaling_factors, bins=50, alpha=0.75, color='b', edgecolor='black')\n",
        "    plt.xlabel('Scaling Factor Value')\n",
        "    plt.ylabel('Frequency')\n",
        "    plt.title('Distribution of Scaling Factors')\n",
        "    plt.grid(True)\n",
        "    plt.show()\n",
        "\n",
        "# 調用函數來繪製 scaling factor 分布圖\n",
        "plot_scaling_factor_distribution(model)\n"
      ],
      "metadata": {
        "id": "ohSv3VlZCyuM",
        "colab": {
          "base_uri": "https://localhost:8080/",
          "height": 422
        },
        "outputId": "a4cfdb93-4434-4499-bb75-88d04b589888"
      },
      "execution_count": 13,
      "outputs": [
        {
          "output_type": "display_data",
          "data": {
            "text/plain": [
              "<Figure size 1000x500 with 1 Axes>"
            ],
            "image/png": "[encoded data removed]"
          },
          "metadata": {}
        }
      ]
    }
  ],
  "metadata": {
    "accelerator": "GPU",
    "colab": {
      "provenance": []
    },
    "gpuClass": "standard",
    "kernelspec": {
      "display_name": "Python 3",
      "name": "python3"
    },
    "language_info": {
      "name": "python"
    }
  },
  "nbformat": 4,
  "nbformat_minor": 0
}