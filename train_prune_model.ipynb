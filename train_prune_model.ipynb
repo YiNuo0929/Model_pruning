{
  "cells": [
    {
      "cell_type": "markdown",
      "metadata": {
        "id": "U3at1mhslz9v"
      },
      "source": [
        "##掛載雲端硬碟\n"
      ]
    },
    {
      "cell_type": "code",
      "execution_count": 1,
      "metadata": {
        "id": "ijtFdN9tl14V",
        "colab": {
          "base_uri": "https://localhost:8080/"
        },
        "outputId": "abf16cfe-eb64-4f9b-9490-b73fa8fb702d"
      },
      "outputs": [
        {
          "output_type": "stream",
          "name": "stdout",
          "text": [
            "Mounted at /content/drive\n"
          ]
        }
      ],
      "source": [
        "from google.colab import drive\n",
        "drive.mount('/content/drive')"
      ]
    },
    {
      "cell_type": "markdown",
      "metadata": {
        "id": "q5bhyRZrl4X2"
      },
      "source": [
        "##更改檔案所在路徑"
      ]
    },
    {
      "cell_type": "code",
      "execution_count": 2,
      "metadata": {
        "id": "f2RXiD5Bl6a2",
        "colab": {
          "base_uri": "https://localhost:8080/"
        },
        "outputId": "b91cf4a6-54c7-43c8-e4f2-824510400bc0"
      },
      "outputs": [
        {
          "output_type": "stream",
          "name": "stdout",
          "text": [
            "/content/drive/MyDrive/EAI_Lab4_2024\n"
          ]
        }
      ],
      "source": [
        "# Change to your own folder !!!\n",
        "%cd /content/drive/MyDrive/EAI_Lab4_2024"
      ]
    },
    {
      "cell_type": "markdown",
      "metadata": {
        "id": "gSal5HL0lTHA"
      },
      "source": [
        "## Import library"
      ]
    },
    {
      "cell_type": "code",
      "execution_count": 3,
      "metadata": {
        "id": "6v2iM_kglWj-"
      },
      "outputs": [],
      "source": [
        "from __future__ import print_function\n",
        "import os\n",
        "import argparse\n",
        "\n",
        "import torch\n",
        "import torch.nn as nn\n",
        "import torch.nn.functional as F\n",
        "import torch.optim as optim\n",
        "from torchvision import datasets, transforms\n",
        "from torch.autograd import Variable\n",
        "\n",
        "from models import vgg"
      ]
    },
    {
      "cell_type": "markdown",
      "metadata": {
        "id": "yFgiQGL6mq6W"
      },
      "source": [
        "## 設定超參數"
      ]
    },
    {
      "cell_type": "code",
      "execution_count": 4,
      "metadata": {
        "id": "a8FQ-IsUmqtP"
      },
      "outputs": [],
      "source": [
        "TRAIN_BATCH_SIZE = 100\n",
        "TEST_BATCH_SIZE = 1000\n",
        "EPOCHS = 20\n",
        "LEARNING_RATE = 0.1\n",
        "MOMENTUM = 0.9\n",
        "WEIGHT_DECAY = 1e-4\n",
        "LOG_INTERVAL = 100\n",
        "CUDA = True\n",
        "SEED = 1\n",
        "\n",
        "RESUME = True\n",
        "START_EPOCH = 0\n",
        "\n",
        "PRUNE_PATH = '/content/drive/MyDrive/Colab Notebooks/model_prune.pth'\n",
        "PRUNE_FINETUNE_PATH = '/content/drive/MyDrive/Colab Notebooks/model_prune_finetune.pth'\n"
      ]
    },
    {
      "cell_type": "markdown",
      "metadata": {
        "id": "Yk2vUEvtE8H3"
      },
      "source": [
        "####檢查是否檢查是否可使用GPU"
      ]
    },
    {
      "cell_type": "code",
      "execution_count": 5,
      "metadata": {
        "id": "_Sa1Tmnym3Pn"
      },
      "outputs": [],
      "source": [
        "if(torch.cuda.is_available()):\n",
        "    CUDA = True\n",
        "    kwargs = {'num_workers': 1, 'pin_memory': True}\n",
        "    torch.cuda.manual_seed(SEED)\n",
        "else:\n",
        "    CUDA = False\n",
        "    kwargs = {}\n"
      ]
    },
    {
      "cell_type": "markdown",
      "metadata": {
        "id": "fylf4FTlm7QX"
      },
      "source": [
        "##下載資料集\n"
      ]
    },
    {
      "cell_type": "markdown",
      "metadata": {
        "id": "erS9S_76nUsG"
      },
      "source": [
        "這裡將訓練集做Augmentation(Pad, RandCrop, Random)，測試集不用做Augmentation"
      ]
    },
    {
      "cell_type": "code",
      "execution_count": 6,
      "metadata": {
        "id": "vBW21uIHm_C-",
        "colab": {
          "base_uri": "https://localhost:8080/"
        },
        "outputId": "2a6ad598-396a-42e2-9b14-5f1cf4c50234"
      },
      "outputs": [
        {
          "output_type": "stream",
          "name": "stdout",
          "text": [
            "Files already downloaded and verified\n"
          ]
        }
      ],
      "source": [
        "#### DATASET ####\n",
        "train_loader = torch.utils.data.DataLoader(\n",
        "    datasets.CIFAR10('./data', train=True, download=True,\n",
        "                   transform=transforms.Compose([\n",
        "                       transforms.Pad(4),\n",
        "                       transforms.RandomCrop(32),\n",
        "                       transforms.RandomHorizontalFlip(),\n",
        "                       transforms.ToTensor(),\n",
        "                       transforms.Normalize((0.5, 0.5, 0.5), (0.5, 0.5, 0.5))\n",
        "                   ])),\n",
        "    batch_size=TRAIN_BATCH_SIZE, shuffle=True, **kwargs)\n",
        "test_loader = torch.utils.data.DataLoader(\n",
        "    datasets.CIFAR10('./data', train=False, transform=transforms.Compose([\n",
        "                       transforms.ToTensor(),\n",
        "                       transforms.Normalize((0.5, 0.5, 0.5), (0.5, 0.5, 0.5))\n",
        "                   ])),\n",
        "    batch_size=TEST_BATCH_SIZE, shuffle=True, **kwargs)"
      ]
    },
    {
      "cell_type": "markdown",
      "metadata": {
        "id": "Is49FKBbuRj2"
      },
      "source": [
        "## 載入剪枝後的網路與權重"
      ]
    },
    {
      "cell_type": "code",
      "execution_count": 8,
      "metadata": {
        "id": "SUbUcHN4uQ89",
        "colab": {
          "base_uri": "https://localhost:8080/"
        },
        "outputId": "52a41f24-3fcb-4afb-93ab-1d5d28939cdf"
      },
      "outputs": [
        {
          "output_type": "stream",
          "name": "stdout",
          "text": [
            "RESUME PRUNE MODEL\n"
          ]
        },
        {
          "output_type": "stream",
          "name": "stderr",
          "text": [
            "<ipython-input-8-f78e2976aa2b>:3: FutureWarning: You are using `torch.load` with `weights_only=False` (the current default value), which uses the default pickle module implicitly. It is possible to construct malicious pickle data which will execute arbitrary code during unpickling (See https://github.com/pytorch/pytorch/blob/main/SECURITY.md#untrusted-models for more details). In a future release, the default value for `weights_only` will be flipped to `True`. This limits the functions that could be executed during unpickling. Arbitrary objects will no longer be allowed to be loaded via this mode unless they are explicitly allowlisted by the user via `torch.serialization.add_safe_globals`. We recommend you start setting `weights_only=True` for any use case where you don't have full control of the loaded file. Please open an issue on GitHub for any issues related to this experimental feature.\n",
            "  checkpoint = torch.load(PRUNE_PATH)\n"
          ]
        }
      ],
      "source": [
        "model = None\n",
        "if(RESUME):\n",
        "  checkpoint = torch.load(PRUNE_PATH)\n",
        "  model = vgg(cfg=checkpoint['cfg'])\n",
        "  model.load_state_dict(checkpoint['state_dict'])\n",
        "\n",
        "  print('RESUME PRUNE MODEL')\n",
        "\n",
        "if CUDA:\n",
        "    model.cuda()"
      ]
    },
    {
      "cell_type": "markdown",
      "metadata": {
        "id": "ZC8ECoKHu7iF"
      },
      "source": [
        "##設定Optimizer，這裡使用Stocastic Gradient Descent with"
      ]
    },
    {
      "cell_type": "code",
      "execution_count": 9,
      "metadata": {
        "id": "EQ-soeyWvGyM"
      },
      "outputs": [],
      "source": [
        "optimizer = optim.SGD(model.parameters(), lr=LEARNING_RATE, momentum=MOMENTUM, weight_decay=WEIGHT_DECAY)"
      ]
    },
    {
      "cell_type": "markdown",
      "metadata": {
        "id": "gR2UTh0iwbEF"
      },
      "source": [
        "## 定義訓練跟測試函數"
      ]
    },
    {
      "cell_type": "code",
      "execution_count": 10,
      "metadata": {
        "id": "hQcKuMDee46V",
        "colab": {
          "base_uri": "https://localhost:8080/"
        },
        "outputId": "c7843d71-ada2-4742-b4f9-ca2e6bdc5e11"
      },
      "outputs": [
        {
          "output_type": "stream",
          "name": "stdout",
          "text": [
            "\n",
            "Train Epoch: 0 [0/50000 (0.0%)]\tLoss: 0.263627\n",
            "\n",
            "Train Epoch: 0 [10000/50000 (20.0%)]\tLoss: 0.636670\n",
            "\n",
            "Train Epoch: 0 [20000/50000 (40.0%)]\tLoss: 0.369313\n",
            "\n",
            "Train Epoch: 0 [30000/50000 (60.0%)]\tLoss: 0.529915\n",
            "\n",
            "Train Epoch: 0 [40000/50000 (80.0%)]\tLoss: 0.384669\n",
            "Epoch 0, Train Accuracy: 0.8164\n",
            "\n",
            "Test set: Average loss: 0.5948, Accuracy: 8106/10000 (81.1%)\n",
            "\n",
            "\n",
            "Train Epoch: 1 [0/50000 (0.0%)]\tLoss: 0.452769\n",
            "\n",
            "Train Epoch: 1 [10000/50000 (20.0%)]\tLoss: 0.410034\n",
            "\n",
            "Train Epoch: 1 [20000/50000 (40.0%)]\tLoss: 0.380960\n",
            "\n",
            "Train Epoch: 1 [30000/50000 (60.0%)]\tLoss: 0.420684\n",
            "\n",
            "Train Epoch: 1 [40000/50000 (80.0%)]\tLoss: 0.464060\n",
            "Epoch 1, Train Accuracy: 0.8485\n",
            "\n",
            "Test set: Average loss: 0.6045, Accuracy: 8017/10000 (80.2%)\n",
            "\n",
            "\n",
            "Train Epoch: 2 [0/50000 (0.0%)]\tLoss: 0.395285\n",
            "\n",
            "Train Epoch: 2 [10000/50000 (20.0%)]\tLoss: 0.361355\n",
            "\n",
            "Train Epoch: 2 [20000/50000 (40.0%)]\tLoss: 0.512073\n",
            "\n",
            "Train Epoch: 2 [30000/50000 (60.0%)]\tLoss: 0.391972\n",
            "\n",
            "Train Epoch: 2 [40000/50000 (80.0%)]\tLoss: 0.432530\n",
            "Epoch 2, Train Accuracy: 0.8551\n",
            "\n",
            "Test set: Average loss: 0.6066, Accuracy: 8161/10000 (81.6%)\n",
            "\n",
            "\n",
            "Train Epoch: 3 [0/50000 (0.0%)]\tLoss: 0.369390\n",
            "\n",
            "Train Epoch: 3 [10000/50000 (20.0%)]\tLoss: 0.355213\n",
            "\n",
            "Train Epoch: 3 [20000/50000 (40.0%)]\tLoss: 0.332484\n",
            "\n",
            "Train Epoch: 3 [30000/50000 (60.0%)]\tLoss: 0.368913\n",
            "\n",
            "Train Epoch: 3 [40000/50000 (80.0%)]\tLoss: 0.323907\n",
            "Epoch 3, Train Accuracy: 0.8568\n",
            "\n",
            "Test set: Average loss: 0.6028, Accuracy: 8097/10000 (81.0%)\n",
            "\n",
            "\n",
            "Train Epoch: 4 [0/50000 (0.0%)]\tLoss: 0.550202\n",
            "\n",
            "Train Epoch: 4 [10000/50000 (20.0%)]\tLoss: 0.548899\n",
            "\n",
            "Train Epoch: 4 [20000/50000 (40.0%)]\tLoss: 0.380262\n",
            "\n",
            "Train Epoch: 4 [30000/50000 (60.0%)]\tLoss: 0.319834\n",
            "\n",
            "Train Epoch: 4 [40000/50000 (80.0%)]\tLoss: 0.339801\n",
            "Epoch 4, Train Accuracy: 0.8608\n",
            "\n",
            "Test set: Average loss: 0.4999, Accuracy: 8376/10000 (83.8%)\n",
            "\n",
            "\n",
            "Train Epoch: 5 [0/50000 (0.0%)]\tLoss: 0.410776\n",
            "\n",
            "Train Epoch: 5 [10000/50000 (20.0%)]\tLoss: 0.384376\n",
            "\n",
            "Train Epoch: 5 [20000/50000 (40.0%)]\tLoss: 0.458531\n",
            "\n",
            "Train Epoch: 5 [30000/50000 (60.0%)]\tLoss: 0.536058\n",
            "\n",
            "Train Epoch: 5 [40000/50000 (80.0%)]\tLoss: 0.433254\n",
            "Epoch 5, Train Accuracy: 0.8638\n",
            "\n",
            "Test set: Average loss: 0.5437, Accuracy: 8230/10000 (82.3%)\n",
            "\n",
            "\n",
            "Train Epoch: 6 [0/50000 (0.0%)]\tLoss: 0.492377\n",
            "\n",
            "Train Epoch: 6 [10000/50000 (20.0%)]\tLoss: 0.397033\n",
            "\n",
            "Train Epoch: 6 [20000/50000 (40.0%)]\tLoss: 0.374705\n",
            "\n",
            "Train Epoch: 6 [30000/50000 (60.0%)]\tLoss: 0.381603\n",
            "\n",
            "Train Epoch: 6 [40000/50000 (80.0%)]\tLoss: 0.328985\n",
            "Epoch 6, Train Accuracy: 0.8680\n",
            "\n",
            "Test set: Average loss: 0.5082, Accuracy: 8333/10000 (83.3%)\n",
            "\n",
            "\n",
            "Train Epoch: 7 [0/50000 (0.0%)]\tLoss: 0.501595\n",
            "\n",
            "Train Epoch: 7 [10000/50000 (20.0%)]\tLoss: 0.245226\n",
            "\n",
            "Train Epoch: 7 [20000/50000 (40.0%)]\tLoss: 0.497464\n",
            "\n",
            "Train Epoch: 7 [30000/50000 (60.0%)]\tLoss: 0.603049\n",
            "\n",
            "Train Epoch: 7 [40000/50000 (80.0%)]\tLoss: 0.316175\n",
            "Epoch 7, Train Accuracy: 0.8709\n",
            "\n",
            "Test set: Average loss: 0.4612, Accuracy: 8514/10000 (85.1%)\n",
            "\n",
            "\n",
            "Train Epoch: 8 [0/50000 (0.0%)]\tLoss: 0.181280\n",
            "\n",
            "Train Epoch: 8 [10000/50000 (20.0%)]\tLoss: 0.442434\n",
            "\n",
            "Train Epoch: 8 [20000/50000 (40.0%)]\tLoss: 0.510580\n",
            "\n",
            "Train Epoch: 8 [30000/50000 (60.0%)]\tLoss: 0.343087\n",
            "\n",
            "Train Epoch: 8 [40000/50000 (80.0%)]\tLoss: 0.363907\n",
            "Epoch 8, Train Accuracy: 0.8703\n",
            "\n",
            "Test set: Average loss: 0.5256, Accuracy: 8276/10000 (82.8%)\n",
            "\n",
            "\n",
            "Train Epoch: 9 [0/50000 (0.0%)]\tLoss: 0.338792\n",
            "\n",
            "Train Epoch: 9 [10000/50000 (20.0%)]\tLoss: 0.427331\n",
            "\n",
            "Train Epoch: 9 [20000/50000 (40.0%)]\tLoss: 0.362736\n",
            "\n",
            "Train Epoch: 9 [30000/50000 (60.0%)]\tLoss: 0.370087\n",
            "\n",
            "Train Epoch: 9 [40000/50000 (80.0%)]\tLoss: 0.487464\n",
            "Epoch 9, Train Accuracy: 0.8715\n",
            "\n",
            "Test set: Average loss: 0.5620, Accuracy: 8207/10000 (82.1%)\n",
            "\n",
            "\n",
            "Train Epoch: 10 [0/50000 (0.0%)]\tLoss: 0.462528\n",
            "\n",
            "Train Epoch: 10 [10000/50000 (20.0%)]\tLoss: 0.226041\n",
            "\n",
            "Train Epoch: 10 [20000/50000 (40.0%)]\tLoss: 0.263202\n",
            "\n",
            "Train Epoch: 10 [30000/50000 (60.0%)]\tLoss: 0.172507\n",
            "\n",
            "Train Epoch: 10 [40000/50000 (80.0%)]\tLoss: 0.263782\n",
            "Epoch 10, Train Accuracy: 0.9105\n",
            "\n",
            "Test set: Average loss: 0.3296, Accuracy: 8908/10000 (89.1%)\n",
            "\n",
            "\n",
            "Train Epoch: 11 [0/50000 (0.0%)]\tLoss: 0.322640\n",
            "\n",
            "Train Epoch: 11 [10000/50000 (20.0%)]\tLoss: 0.214573\n",
            "\n",
            "Train Epoch: 11 [20000/50000 (40.0%)]\tLoss: 0.150164\n",
            "\n",
            "Train Epoch: 11 [30000/50000 (60.0%)]\tLoss: 0.287873\n",
            "\n",
            "Train Epoch: 11 [40000/50000 (80.0%)]\tLoss: 0.274983\n",
            "Epoch 11, Train Accuracy: 0.9212\n",
            "\n",
            "Test set: Average loss: 0.3189, Accuracy: 8954/10000 (89.5%)\n",
            "\n",
            "\n",
            "Train Epoch: 12 [0/50000 (0.0%)]\tLoss: 0.204536\n",
            "\n",
            "Train Epoch: 12 [10000/50000 (20.0%)]\tLoss: 0.187517\n",
            "\n",
            "Train Epoch: 12 [20000/50000 (40.0%)]\tLoss: 0.230762\n",
            "\n",
            "Train Epoch: 12 [30000/50000 (60.0%)]\tLoss: 0.189237\n",
            "\n",
            "Train Epoch: 12 [40000/50000 (80.0%)]\tLoss: 0.230380\n",
            "Epoch 12, Train Accuracy: 0.9240\n",
            "\n",
            "Test set: Average loss: 0.3153, Accuracy: 8961/10000 (89.6%)\n",
            "\n",
            "\n",
            "Train Epoch: 13 [0/50000 (0.0%)]\tLoss: 0.249312\n",
            "\n",
            "Train Epoch: 13 [10000/50000 (20.0%)]\tLoss: 0.234582\n",
            "\n",
            "Train Epoch: 13 [20000/50000 (40.0%)]\tLoss: 0.364309\n",
            "\n",
            "Train Epoch: 13 [30000/50000 (60.0%)]\tLoss: 0.318637\n",
            "\n",
            "Train Epoch: 13 [40000/50000 (80.0%)]\tLoss: 0.260853\n",
            "Epoch 13, Train Accuracy: 0.9282\n",
            "\n",
            "Test set: Average loss: 0.3221, Accuracy: 8934/10000 (89.3%)\n",
            "\n",
            "\n",
            "Train Epoch: 14 [0/50000 (0.0%)]\tLoss: 0.320310\n",
            "\n",
            "Train Epoch: 14 [10000/50000 (20.0%)]\tLoss: 0.165959\n",
            "\n",
            "Train Epoch: 14 [20000/50000 (40.0%)]\tLoss: 0.318414\n",
            "\n",
            "Train Epoch: 14 [30000/50000 (60.0%)]\tLoss: 0.188675\n",
            "\n",
            "Train Epoch: 14 [40000/50000 (80.0%)]\tLoss: 0.100777\n",
            "Epoch 14, Train Accuracy: 0.9280\n",
            "\n",
            "Test set: Average loss: 0.3152, Accuracy: 8969/10000 (89.7%)\n",
            "\n",
            "\n",
            "Train Epoch: 15 [0/50000 (0.0%)]\tLoss: 0.207540\n",
            "\n",
            "Train Epoch: 15 [10000/50000 (20.0%)]\tLoss: 0.229700\n",
            "\n",
            "Train Epoch: 15 [20000/50000 (40.0%)]\tLoss: 0.162711\n",
            "\n",
            "Train Epoch: 15 [30000/50000 (60.0%)]\tLoss: 0.151028\n",
            "\n",
            "Train Epoch: 15 [40000/50000 (80.0%)]\tLoss: 0.258959\n",
            "Epoch 15, Train Accuracy: 0.9328\n",
            "\n",
            "Test set: Average loss: 0.3102, Accuracy: 9003/10000 (90.0%)\n",
            "\n",
            "\n",
            "Train Epoch: 16 [0/50000 (0.0%)]\tLoss: 0.174892\n",
            "\n",
            "Train Epoch: 16 [10000/50000 (20.0%)]\tLoss: 0.202164\n",
            "\n",
            "Train Epoch: 16 [20000/50000 (40.0%)]\tLoss: 0.143756\n",
            "\n",
            "Train Epoch: 16 [30000/50000 (60.0%)]\tLoss: 0.106480\n",
            "\n",
            "Train Epoch: 16 [40000/50000 (80.0%)]\tLoss: 0.137473\n",
            "Epoch 16, Train Accuracy: 0.9348\n",
            "\n",
            "Test set: Average loss: 0.3095, Accuracy: 9001/10000 (90.0%)\n",
            "\n",
            "\n",
            "Train Epoch: 17 [0/50000 (0.0%)]\tLoss: 0.151727\n",
            "\n",
            "Train Epoch: 17 [10000/50000 (20.0%)]\tLoss: 0.228999\n",
            "\n",
            "Train Epoch: 17 [20000/50000 (40.0%)]\tLoss: 0.228856\n",
            "\n",
            "Train Epoch: 17 [30000/50000 (60.0%)]\tLoss: 0.183615\n",
            "\n",
            "Train Epoch: 17 [40000/50000 (80.0%)]\tLoss: 0.164820\n",
            "Epoch 17, Train Accuracy: 0.9364\n",
            "\n",
            "Test set: Average loss: 0.3084, Accuracy: 9001/10000 (90.0%)\n",
            "\n",
            "\n",
            "Train Epoch: 18 [0/50000 (0.0%)]\tLoss: 0.153680\n",
            "\n",
            "Train Epoch: 18 [10000/50000 (20.0%)]\tLoss: 0.178746\n",
            "\n",
            "Train Epoch: 18 [20000/50000 (40.0%)]\tLoss: 0.327600\n",
            "\n",
            "Train Epoch: 18 [30000/50000 (60.0%)]\tLoss: 0.239179\n",
            "\n",
            "Train Epoch: 18 [40000/50000 (80.0%)]\tLoss: 0.146627\n",
            "Epoch 18, Train Accuracy: 0.9351\n",
            "\n",
            "Test set: Average loss: 0.3083, Accuracy: 9021/10000 (90.2%)\n",
            "\n",
            "\n",
            "Train Epoch: 19 [0/50000 (0.0%)]\tLoss: 0.174710\n",
            "\n",
            "Train Epoch: 19 [10000/50000 (20.0%)]\tLoss: 0.191965\n",
            "\n",
            "Train Epoch: 19 [20000/50000 (40.0%)]\tLoss: 0.127281\n",
            "\n",
            "Train Epoch: 19 [30000/50000 (60.0%)]\tLoss: 0.218906\n",
            "\n",
            "Train Epoch: 19 [40000/50000 (80.0%)]\tLoss: 0.208349\n",
            "Epoch 19, Train Accuracy: 0.9377\n",
            "\n",
            "Test set: Average loss: 0.3077, Accuracy: 9011/10000 (90.1%)\n",
            "\n",
            "\n",
            " TRAIN PRUNED MODEL DONE!\n"
          ]
        }
      ],
      "source": [
        "# 新增變數來記錄每個 epoch 的訓練和測試精度\n",
        "train_accuracies = []\n",
        "test_accuracies = []\n",
        "\n",
        "#### 訓練函數 #####\n",
        "def train(epoch):\n",
        "    model.train()\n",
        "    correct = 0\n",
        "    total = 0\n",
        "\n",
        "    for batch_idx, (data, target) in enumerate(train_loader):\n",
        "        if CUDA:\n",
        "            data, target = data.cuda(), target.cuda()\n",
        "        data, target = Variable(data), Variable(target)\n",
        "        optimizer.zero_grad()\n",
        "        output = model(data)\n",
        "        loss = F.cross_entropy(output, target)\n",
        "        loss.backward()\n",
        "        optimizer.step()\n",
        "\n",
        "        # 計算正確的預測數量\n",
        "        pred = output.data.max(1, keepdim=True)[1]\n",
        "        correct += pred.eq(target.data.view_as(pred)).cpu().sum().item()\n",
        "        total += target.size(0)\n",
        "\n",
        "        if batch_idx % LOG_INTERVAL == 0:\n",
        "            print('\\nTrain Epoch: {} [{}/{} ({:.1f}%)]\\tLoss: {:.6f}'.format(\n",
        "                epoch, batch_idx * len(data), len(train_loader.dataset),\n",
        "                100. * batch_idx / len(train_loader), loss.data.item()))\n",
        "\n",
        "    # 計算當前 epoch 的訓練精度並記錄\n",
        "    train_accuracy = correct / total\n",
        "    train_accuracies.append(train_accuracy)\n",
        "    print(f'Epoch {epoch}, Train Accuracy: {train_accuracy:.4f}')\n",
        "\n",
        "#### 測試函數 ####\n",
        "def test():\n",
        "    model.eval()\n",
        "    test_loss = 0\n",
        "    correct = 0\n",
        "\n",
        "    with torch.no_grad():\n",
        "        for data, target in test_loader:\n",
        "            if CUDA:\n",
        "                data, target = data.cuda(), target.cuda()\n",
        "            data, target = Variable(data), Variable(target)\n",
        "            output = model(data)\n",
        "            test_loss += F.cross_entropy(output, target, reduction='sum').data.item()\n",
        "            pred = output.data.max(1, keepdim=True)[1]\n",
        "            correct += pred.eq(target.data.view_as(pred)).cpu().sum()\n",
        "\n",
        "    test_loss /= len(test_loader.dataset)\n",
        "    test_accuracy = correct / float(len(test_loader.dataset))\n",
        "    test_accuracies.append(test_accuracy)\n",
        "    print('\\nTest set: Average loss: {:.4f}, Accuracy: {}/{} ({:.1f}%)\\n'.format(\n",
        "        test_loss, correct, len(test_loader.dataset),\n",
        "        100. * test_accuracy))\n",
        "    return test_accuracy\n",
        "\n",
        "best_prec1 = 0.\n",
        "for epoch in range(START_EPOCH, EPOCHS):\n",
        "    # 動態調整學習率\n",
        "    if epoch in [int(EPOCHS*0.5), int(EPOCHS*0.75)]:\n",
        "        for param_group in optimizer.param_groups:\n",
        "            param_group['lr'] *= 0.1\n",
        "\n",
        "    train(epoch)\n",
        "    prec1 = test()\n",
        "\n",
        "    # 儲存模型權重，方便做後續剪枝和微調\n",
        "    if prec1 > best_prec1:\n",
        "        torch.save({\n",
        "            'epoch': epoch + 1,\n",
        "            'state_dict': model.state_dict(),\n",
        "            'best_prec1': best_prec1,\n",
        "            'optimizer': optimizer.state_dict(),\n",
        "        }, PRUNE_FINETUNE_PATH)\n",
        "\n",
        "    best_prec1 = max(prec1, best_prec1)\n",
        "\n",
        "print('\\n TRAIN PRUNED MODEL DONE!')\n"
      ]
    },
    {
      "cell_type": "markdown",
      "metadata": {
        "id": "8I1zyyqmNtQk"
      },
      "source": [
        "## 繪製Fine-tuning結果圖\n"
      ]
    },
    {
      "cell_type": "code",
      "execution_count": 11,
      "metadata": {
        "id": "WH1VaayxN1Qj",
        "colab": {
          "base_uri": "https://localhost:8080/",
          "height": 487
        },
        "outputId": "c8863967-56ec-447f-b48b-794d3c31bfb8"
      },
      "outputs": [
        {
          "output_type": "display_data",
          "data": {
            "text/plain": [
              "<Figure size 1000x500 with 1 Axes>"
            ],
            "image/png": "[encoded data removed]"
          },
          "metadata": {}
        }
      ],
      "source": [
        "# 繪製 Fine-tuning 結果圖\n",
        "import matplotlib.pyplot as plt\n",
        "\n",
        "plt.figure(figsize=(10, 5))\n",
        "plt.plot(range(START_EPOCH, EPOCHS), train_accuracies, label='Train Accuracy')\n",
        "plt.plot(range(START_EPOCH, EPOCHS), test_accuracies, label='Test Accuracy')\n",
        "plt.xlabel('Epoch')\n",
        "plt.ylabel('Accuracy')\n",
        "plt.title('Fine-tuning Accuracy over Epochs')\n",
        "plt.legend()\n",
        "plt.grid(True)\n",
        "plt.show()\n"
      ]
    }
  ],
  "metadata": {
    "accelerator": "GPU",
    "colab": {
      "provenance": []
    },
    "gpuClass": "standard",
    "kernelspec": {
      "display_name": "Python 3",
      "name": "python3"
    },
    "language_info": {
      "name": "python"
    }
  },
  "nbformat": 4,
  "nbformat_minor": 0
}